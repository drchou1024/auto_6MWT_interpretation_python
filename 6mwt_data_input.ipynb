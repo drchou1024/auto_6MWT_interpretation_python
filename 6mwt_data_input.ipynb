{
 "cells": [
  {
   "cell_type": "code",
   "execution_count": 1,
   "id": "affected-rwanda",
   "metadata": {},
   "outputs": [],
   "source": [
    "import os\n",
    "import PIL\n",
    "from PIL import Image\n",
    "import fitz\n",
    "import pytesseract\n",
    "import numpy as np\n",
    "import pandas as pd\n",
    "import matplotlib.pyplot as plt\n",
    "from ipywidgets import interact\n",
    "from IPython.display import display\n",
    "import csv\n",
    "import re\n",
    "import docx\n",
    "from docx.shared import RGBColor\n",
    "from docx.shared import Cm, Pt  #加入可調整的 word 單位\n",
    "from docx.oxml.ns import qn\n",
    "from docx.enum.text import WD_ALIGN_PARAGRAPH #處理字串的置中"
   ]
  },
  {
   "cell_type": "markdown",
   "id": "recorded-found",
   "metadata": {},
   "source": [
    "### Clinical data input"
   ]
  },
  {
   "cell_type": "code",
   "execution_count": 2,
   "id": "unlikely-arizona",
   "metadata": {},
   "outputs": [
    {
     "name": "stdout",
     "output_type": "stream",
     "text": [
      "Please enter Chart No.18151747\n",
      "Was excercise limited?(Y/N)N\n",
      "What's the Borg scale before walking?0\n",
      "What's the Borg scale after walking?5\n",
      "What's the Heart Rate before walking?58\n",
      "What's the Heart Rate after walking?64\n",
      "What's the Maximal Heart Rate during walking?81\n",
      "What's the SpO2 before walking?94\n",
      "What's the SpO2 after walking?93\n",
      "What's the Lowest SpO2 during walking?87\n",
      "Tidal loop encroaching?(before)(Y/N)Y\n",
      "Tidal loop encroaching?(after)(Y/N)Y\n",
      "How far did this patient walk?310\n"
     ]
    }
   ],
   "source": [
    "csv_name = input('Please enter Chart No. ')\n",
    "ex_limit = input(\"Was excercise limited?(Y/N) \")\n",
    "if ex_limit == 'Y':\n",
    "    limit_choice = int(input(r\"(0) No limitation (1) Muscle weakness (2) Breathless (3) Unstable gait (4) Unwilling to walk further (5) Pain on walking (6) Chest tightness (7) Dizziness (8) Others (1~8) \"))\n",
    "    \n",
    "    \n",
    "borg_b = int(input(\"What's the Borg scale before walking? \"))\n",
    "borg_a = int(input(\"What's the Borg scale after walking? \"))\n",
    "HR_b = int(input(\"What's the Heart Rate before walking? \"))\n",
    "HR_a = int(input(\"What's the Heart Rate after walking? \"))\n",
    "HR_M = int(input(\"What's the Maximal Heart Rate during walking? \"))\n",
    "oxy_b = int(input(\"What's the SpO2 before walking? \"))\n",
    "oxy_a = int(input(\"What's the SpO2 after walking? \"))\n",
    "oxy_m = int(input(\"What's the Lowest SpO2 during walking? \"))\n",
    "TV_encroach_b = input(\"Tidal loop encroaching?(before)(Y/N) \")\n",
    "TV_encroach_a = input(\"Tidal loop encroaching?(after)(Y/N) \")\n",
    "distance = int(input('How far did this patient walk? '))"
   ]
  },
  {
   "cell_type": "code",
   "execution_count": 3,
   "id": "advised-sleep",
   "metadata": {},
   "outputs": [],
   "source": [
    "data_dic_input = {    \n",
    "    \"before\": {\n",
    "        \"Borg\" : borg_b, \n",
    "        \"heart rate\": HR_b, \n",
    "        \"SpO2\" : oxy_b,\n",
    "        \"TV encroaching\" : TV_encroach_b\n",
    "    }, \n",
    "    \"after\": {\n",
    "        \"Borg\" : borg_a, \n",
    "        \"heart rate\": HR_M, \n",
    "        \"SpO2\" : oxy_m, \n",
    "        \"TV encroaching\" : TV_encroach_a,\n",
    "        \"Distance\" : distance\n",
    "    }\n",
    "}"
   ]
  },
  {
   "cell_type": "code",
   "execution_count": 4,
   "id": "infinite-tension",
   "metadata": {},
   "outputs": [
    {
     "data": {
      "text/html": [
       "<div>\n",
       "<style scoped>\n",
       "    .dataframe tbody tr th:only-of-type {\n",
       "        vertical-align: middle;\n",
       "    }\n",
       "\n",
       "    .dataframe tbody tr th {\n",
       "        vertical-align: top;\n",
       "    }\n",
       "\n",
       "    .dataframe thead th {\n",
       "        text-align: right;\n",
       "    }\n",
       "</style>\n",
       "<table border=\"1\" class=\"dataframe\">\n",
       "  <thead>\n",
       "    <tr style=\"text-align: right;\">\n",
       "      <th></th>\n",
       "      <th>before</th>\n",
       "      <th>after</th>\n",
       "    </tr>\n",
       "  </thead>\n",
       "  <tbody>\n",
       "    <tr>\n",
       "      <th>Borg</th>\n",
       "      <td>0</td>\n",
       "      <td>5</td>\n",
       "    </tr>\n",
       "    <tr>\n",
       "      <th>heart rate</th>\n",
       "      <td>58</td>\n",
       "      <td>81</td>\n",
       "    </tr>\n",
       "    <tr>\n",
       "      <th>SpO2</th>\n",
       "      <td>94</td>\n",
       "      <td>87</td>\n",
       "    </tr>\n",
       "    <tr>\n",
       "      <th>TV encroaching</th>\n",
       "      <td>Y</td>\n",
       "      <td>Y</td>\n",
       "    </tr>\n",
       "    <tr>\n",
       "      <th>Distance</th>\n",
       "      <td>NaN</td>\n",
       "      <td>310</td>\n",
       "    </tr>\n",
       "  </tbody>\n",
       "</table>\n",
       "</div>"
      ],
      "text/plain": [
       "               before after\n",
       "Borg                0     5\n",
       "heart rate         58    81\n",
       "SpO2               94    87\n",
       "TV encroaching      Y     Y\n",
       "Distance          NaN   310"
      ]
     },
     "execution_count": 4,
     "metadata": {},
     "output_type": "execute_result"
    }
   ],
   "source": [
    "df_2 = pd.DataFrame.from_dict(data_dic_input)\n",
    "df_2\n"
   ]
  },
  {
   "cell_type": "code",
   "execution_count": 5,
   "id": "banned-examination",
   "metadata": {},
   "outputs": [
    {
     "name": "stdout",
     "output_type": "stream",
     "text": [
      "Please enter file folder?C:\\Users\\drcho\\OneDrive\\文件\\Python Files\\6MWT\\data_csv\n",
      "Please enter file name18151747\n"
     ]
    }
   ],
   "source": [
    "csv_dir = input('Please enter file folder?')\n",
    "# csv_name = input('Please enter file name')\n",
    "df_2.to_csv(r'{}\\{}.csv'.format(csv_dir, csv_name + '_02'))"
   ]
  }
 ],
 "metadata": {
  "kernelspec": {
   "display_name": "Python 3",
   "language": "python",
   "name": "python3"
  },
  "language_info": {
   "codemirror_mode": {
    "name": "ipython",
    "version": 3
   },
   "file_extension": ".py",
   "mimetype": "text/x-python",
   "name": "python",
   "nbconvert_exporter": "python",
   "pygments_lexer": "ipython3",
   "version": "3.9.6"
  }
 },
 "nbformat": 4,
 "nbformat_minor": 5
}
