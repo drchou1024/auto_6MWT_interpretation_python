{
 "cells": [
  {
   "cell_type": "code",
   "execution_count": 1,
   "metadata": {},
   "outputs": [],
   "source": [
    "import os\n",
    "import PIL\n",
    "from PIL import Image\n",
    "import fitz\n",
    "import pytesseract\n",
    "import numpy as np\n",
    "import pandas as pd\n",
    "import matplotlib.pyplot as plt\n",
    "from ipywidgets import interact\n",
    "from IPython.display import display\n",
    "import csv\n",
    "import re\n",
    "import docx\n",
    "from docx.shared import RGBColor\n",
    "from docx.shared import Cm, Pt  #加入可調整的 word 單位\n",
    "from docx.oxml.ns import qn\n",
    "from docx.enum.text import WD_ALIGN_PARAGRAPH #處理字串的置中"
   ]
  },
  {
   "cell_type": "markdown",
   "metadata": {},
   "source": [
    "### Pulmonary function test Data input"
   ]
  },
  {
   "cell_type": "code",
   "execution_count": 2,
   "metadata": {},
   "outputs": [
    {
     "name": "stdout",
     "output_type": "stream",
     "text": [
      "What's the Chart No.?13497633\n",
      "How old is this patient?73\n",
      "Please enter Pre-FVC(L)2.53\n",
      "Please enter Pre-FVC%74\n",
      "Please enter Pre-FEV11.91\n",
      "Please enter Pre-FEV1/FVC0.75\n",
      "Please enter Pre-TV0.87\n",
      "Please enter Pre-IC2.07\n",
      "Please enter MMEF%50\n",
      "Please enter Post-FVC(L)2.65\n",
      "Please enter Post-FVC%77\n",
      "Please enter Post-FEV12.05\n",
      "Please enter Post-FEV1/FVC0.77\n",
      "Please enter Post-TV1.34\n",
      "Please enter Post-IC2.23\n"
     ]
    }
   ],
   "source": [
    "char_no = input(r\"What's the Chart No.?\")\n",
    "age = int(input(r\"How old is this patient?\"))\n",
    "fvc_pre = float(input(r\"Please enter Pre-FVC(L)\"))\n",
    "fvc_p_pre = float(input(r\"Please enter Pre-FVC%\"))\n",
    "fev1_pre = float(input(r\"Please enter Pre-FEV1\"))\n",
    "fev1_fvc_pre = float(input(r\"Please enter Pre-FEV1/FVC\"))\n",
    "tv_pre = float(input(r\"Please enter Pre-TV\"))\n",
    "ic_pre = float(input(r\"Please enter Pre-IC\"))\n",
    "mmef = int(input(r\"Please enter MMEF%\"))\n",
    "fvc_post = float(input(r\"Please enter Post-FVC(L)\"))\n",
    "fvc_p_post = float(input(r\"Please enter Post-FVC%\"))\n",
    "fev1_post = float(input(r\"Please enter Post-FEV1\"))\n",
    "fev1_fvc_post = float(input(r\"Please enter Post-FEV1/FVC\"))\n",
    "tv_post = float(input(r\"Please enter Post-TV\"))\n",
    "ic_post = float(input(r\"Please enter Post-IC\"))\n",
    "# pft_input_values = [char_no, age, fvc_pre, fvc_p_pre, fev1_pre, fev1_fvc_pre, mmef, ic_pre, tv_pre, fvc_post, fvc_p_post, fev1_post, fev1_fvc_post, ic_post, tv_post]"
   ]
  },
  {
   "cell_type": "code",
   "execution_count": 3,
   "metadata": {},
   "outputs": [],
   "source": [
    "pft_input_values = [char_no, age, fvc_pre, fvc_p_pre, fev1_pre, fev1_fvc_pre, mmef, ic_pre, tv_pre, fvc_post, fvc_p_post, fev1_post, fev1_fvc_post, ic_post, tv_post]"
   ]
  },
  {
   "cell_type": "code",
   "execution_count": 4,
   "metadata": {},
   "outputs": [],
   "source": [
    "pft_input_keys = [\n",
    "    'Chart No.',\n",
    "    'Age', \n",
    "    'Pre-FVC',\n",
    "    r'Pre-FVC%',\n",
    "    'Pre-FEV1', \n",
    "    r'Pre-FEV1/FVC', \n",
    "    r'MMEF%',\n",
    "    'Pre-IC', \n",
    "    'Pre-TV', \n",
    "    'Post-FVC',\n",
    "    r'Post-FVC%',\n",
    "    'Post-FEV1', \n",
    "    r'Post-FEV1/FVC', \n",
    "    'Post-IC', \n",
    "    'Post-TV']"
   ]
  },
  {
   "cell_type": "code",
   "execution_count": 5,
   "metadata": {},
   "outputs": [],
   "source": [
    "pft_input_dict = dict(zip(pft_input_keys, pft_input_values))\n",
    "df_3 = pd.DataFrame.from_dict(pft_input_dict, orient = 'index')"
   ]
  },
  {
   "cell_type": "code",
   "execution_count": 6,
   "metadata": {},
   "outputs": [
    {
     "data": {
      "text/html": [
       "<div>\n",
       "<style scoped>\n",
       "    .dataframe tbody tr th:only-of-type {\n",
       "        vertical-align: middle;\n",
       "    }\n",
       "\n",
       "    .dataframe tbody tr th {\n",
       "        vertical-align: top;\n",
       "    }\n",
       "\n",
       "    .dataframe thead th {\n",
       "        text-align: right;\n",
       "    }\n",
       "</style>\n",
       "<table border=\"1\" class=\"dataframe\">\n",
       "  <thead>\n",
       "    <tr style=\"text-align: right;\">\n",
       "      <th></th>\n",
       "      <th>0</th>\n",
       "    </tr>\n",
       "  </thead>\n",
       "  <tbody>\n",
       "    <tr>\n",
       "      <th>Chart No.</th>\n",
       "      <td>13497633</td>\n",
       "    </tr>\n",
       "    <tr>\n",
       "      <th>Age</th>\n",
       "      <td>73</td>\n",
       "    </tr>\n",
       "    <tr>\n",
       "      <th>Pre-FVC</th>\n",
       "      <td>2.53</td>\n",
       "    </tr>\n",
       "    <tr>\n",
       "      <th>Pre-FVC%</th>\n",
       "      <td>74.00</td>\n",
       "    </tr>\n",
       "    <tr>\n",
       "      <th>Pre-FEV1</th>\n",
       "      <td>1.91</td>\n",
       "    </tr>\n",
       "    <tr>\n",
       "      <th>Pre-FEV1/FVC</th>\n",
       "      <td>0.75</td>\n",
       "    </tr>\n",
       "    <tr>\n",
       "      <th>MMEF%</th>\n",
       "      <td>50</td>\n",
       "    </tr>\n",
       "    <tr>\n",
       "      <th>Pre-IC</th>\n",
       "      <td>2.07</td>\n",
       "    </tr>\n",
       "    <tr>\n",
       "      <th>Pre-TV</th>\n",
       "      <td>0.87</td>\n",
       "    </tr>\n",
       "    <tr>\n",
       "      <th>Post-FVC</th>\n",
       "      <td>2.65</td>\n",
       "    </tr>\n",
       "    <tr>\n",
       "      <th>Post-FVC%</th>\n",
       "      <td>77.00</td>\n",
       "    </tr>\n",
       "    <tr>\n",
       "      <th>Post-FEV1</th>\n",
       "      <td>2.05</td>\n",
       "    </tr>\n",
       "    <tr>\n",
       "      <th>Post-FEV1/FVC</th>\n",
       "      <td>0.77</td>\n",
       "    </tr>\n",
       "    <tr>\n",
       "      <th>Post-IC</th>\n",
       "      <td>2.23</td>\n",
       "    </tr>\n",
       "    <tr>\n",
       "      <th>Post-TV</th>\n",
       "      <td>1.34</td>\n",
       "    </tr>\n",
       "  </tbody>\n",
       "</table>\n",
       "</div>"
      ],
      "text/plain": [
       "                      0\n",
       "Chart No.      13497633\n",
       "Age                  73\n",
       "Pre-FVC            2.53\n",
       "Pre-FVC%          74.00\n",
       "Pre-FEV1           1.91\n",
       "Pre-FEV1/FVC       0.75\n",
       "MMEF%                50\n",
       "Pre-IC             2.07\n",
       "Pre-TV             0.87\n",
       "Post-FVC           2.65\n",
       "Post-FVC%         77.00\n",
       "Post-FEV1          2.05\n",
       "Post-FEV1/FVC      0.77\n",
       "Post-IC            2.23\n",
       "Post-TV            1.34"
      ]
     },
     "execution_count": 6,
     "metadata": {},
     "output_type": "execute_result"
    }
   ],
   "source": [
    "df_3"
   ]
  },
  {
   "cell_type": "code",
   "execution_count": null,
   "metadata": {},
   "outputs": [],
   "source": []
  },
  {
   "cell_type": "code",
   "execution_count": 7,
   "metadata": {},
   "outputs": [],
   "source": [
    "# ex_limit = input(\"Was excercise limited?(Y/N)\")\n",
    "# if ex_limit == 'Y':\n",
    "#     limit_choice = int(input(r\"(0) No limitation (1) Muscle weakness (2) Breathless (3) Unstable gait (4) Unwilling to walk further (5) Pain on walking (6) Chest tightness (7) Dizziness (8) Others (1~8)\"))\n",
    "    \n",
    "    \n",
    "# borg_b = int(input(\"What's the Borg scale before walking?\"))\n",
    "# borg_a = int(input(\"What's the Borg scale after walking?\"))\n",
    "# HR_b = int(input(\"What's the Heart Rate before walking?\"))\n",
    "# HR_a = int(input(\"What's the Heart Rate after walking?\"))\n",
    "# HR_M = int(input(\"What's the Maximal Heart Rate during walking?\"))\n",
    "# oxy_b = int(input(\"What's the SpO2 before walking?\"))\n",
    "# oxy_a = int(input(\"What's the SpO2 after walking?\"))\n",
    "# oxy_m = int(input(\"What's the Lowest SpO2 during walking?\"))\n",
    "# TV_encroach_b = input(\"Tidal loop encroaching?(before)(Y/N)\")\n",
    "# TV_encroach_a = input(\"Tidal loop encroaching?(after)(Y/N)\")\n",
    "# distance = int(input('How far did this patient walk?'))"
   ]
  },
  {
   "cell_type": "code",
   "execution_count": 8,
   "metadata": {},
   "outputs": [],
   "source": [
    "# data_dic_input = {    \n",
    "#     \"before\": {\n",
    "#         \"Borg\" : borg_b, \n",
    "#         \"heart rate\": HR_b, \n",
    "#         \"SpO2\" : oxy_b,\n",
    "#         \"TV encroaching\" : TV_encroach_b\n",
    "#     }, \n",
    "#     \"after\": {\n",
    "#         \"Borg\" : borg_a, \n",
    "#         \"heart rate\": HR_M, \n",
    "#         \"SpO2\" : oxy_m, \n",
    "#         \"TV encroaching\" : TV_encroach_a,\n",
    "#         \"Distance\" : distance\n",
    "#     }\n",
    "# }"
   ]
  },
  {
   "cell_type": "code",
   "execution_count": 9,
   "metadata": {
    "scrolled": true
   },
   "outputs": [],
   "source": [
    "# df_2 = pd.DataFrame.from_dict(data_dic_input)"
   ]
  },
  {
   "cell_type": "code",
   "execution_count": 10,
   "metadata": {},
   "outputs": [],
   "source": [
    "# csv_dir = input('Please enter csv folder name: ')\n",
    "csv_dir = r'C:\\Users\\drcho\\OneDrive\\文件\\Python Files\\6MWT\\data_csv'\n",
    "csv_name = char_no\n",
    "df_3.to_csv(r'{}\\{}.csv'.format(csv_dir, csv_name + '_01'))\n",
    "# df_2.to_csv(r'{}\\{}.csv'.format(csv_dir, csv_name + '_02'))"
   ]
  },
  {
   "cell_type": "code",
   "execution_count": 11,
   "metadata": {},
   "outputs": [],
   "source": [
    "# df_2"
   ]
  }
 ],
 "metadata": {
  "kernelspec": {
   "display_name": "Python 3",
   "language": "python",
   "name": "python3"
  },
  "language_info": {
   "codemirror_mode": {
    "name": "ipython",
    "version": 3
   },
   "file_extension": ".py",
   "mimetype": "text/x-python",
   "name": "python",
   "nbconvert_exporter": "python",
   "pygments_lexer": "ipython3",
   "version": "3.9.6"
  }
 },
 "nbformat": 4,
 "nbformat_minor": 2
}
